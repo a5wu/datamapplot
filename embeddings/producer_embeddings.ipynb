{
 "cells": [
  {
   "cell_type": "code",
   "execution_count": 2,
   "metadata": {},
   "outputs": [
    {
     "data": {
      "text/html": [
       "<div>\n",
       "<style scoped>\n",
       "    .dataframe tbody tr th:only-of-type {\n",
       "        vertical-align: middle;\n",
       "    }\n",
       "\n",
       "    .dataframe tbody tr th {\n",
       "        vertical-align: top;\n",
       "    }\n",
       "\n",
       "    .dataframe thead th {\n",
       "        text-align: right;\n",
       "    }\n",
       "</style>\n",
       "<table border=\"1\" class=\"dataframe\">\n",
       "  <thead>\n",
       "    <tr style=\"text-align: right;\">\n",
       "      <th></th>\n",
       "      <th>producer_idx</th>\n",
       "      <th>did</th>\n",
       "      <th>handle</th>\n",
       "      <th>display_name</th>\n",
       "      <th>description</th>\n",
       "      <th>followers</th>\n",
       "      <th>following</th>\n",
       "      <th>posts</th>\n",
       "      <th>joined</th>\n",
       "      <th>error</th>\n",
       "      <th>bsky_url</th>\n",
       "    </tr>\n",
       "  </thead>\n",
       "  <tbody>\n",
       "    <tr>\n",
       "      <th>0</th>\n",
       "      <td>0</td>\n",
       "      <td>did:plc:nywb5oene54cllowkfwouxzz</td>\n",
       "      <td>chadloder.bsky.social</td>\n",
       "      <td>Chad Loder</td>\n",
       "      <td>Community activist, cybersecurity expert, citi...</td>\n",
       "      <td>54792.0</td>\n",
       "      <td>1377.0</td>\n",
       "      <td>10515.0</td>\n",
       "      <td>2023-04-30T18:10:33.161Z</td>\n",
       "      <td>None</td>\n",
       "      <td>https://bsky.app/profile/did:plc:nywb5oene54cl...</td>\n",
       "    </tr>\n",
       "    <tr>\n",
       "      <th>1</th>\n",
       "      <td>1</td>\n",
       "      <td>did:plc:mnfnfpykrohxbck6av3f7los</td>\n",
       "      <td>blkmatters3000.bsky.social</td>\n",
       "      <td>Michael E Hopson</td>\n",
       "      <td>Organizer. Abolitionist \\nHe/him</td>\n",
       "      <td>134.0</td>\n",
       "      <td>23.0</td>\n",
       "      <td>5.0</td>\n",
       "      <td>2023-05-01T22:40:48.536Z</td>\n",
       "      <td>None</td>\n",
       "      <td>https://bsky.app/profile/did:plc:mnfnfpykrohxb...</td>\n",
       "    </tr>\n",
       "    <tr>\n",
       "      <th>2</th>\n",
       "      <td>2</td>\n",
       "      <td>did:plc:kfdf3ncmu3ekd3yrorivypai</td>\n",
       "      <td>lolennui.bsky.social</td>\n",
       "      <td>Amy Ash</td>\n",
       "      <td>onion lady \\n\\nhttps://lolennui.com</td>\n",
       "      <td>52062.0</td>\n",
       "      <td>819.0</td>\n",
       "      <td>3329.0</td>\n",
       "      <td>2023-04-27T15:52:02.340Z</td>\n",
       "      <td>None</td>\n",
       "      <td>https://bsky.app/profile/did:plc:kfdf3ncmu3ekd...</td>\n",
       "    </tr>\n",
       "    <tr>\n",
       "      <th>3</th>\n",
       "      <td>3</td>\n",
       "      <td>did:plc:rwbe4e7d7o3fwwcqkoyjvp4v</td>\n",
       "      <td>rui.bsky.social</td>\n",
       "      <td>Rui</td>\n",
       "      <td>None</td>\n",
       "      <td>5196.0</td>\n",
       "      <td>43075.0</td>\n",
       "      <td>29.0</td>\n",
       "      <td>2023-04-11T18:05:18.291Z</td>\n",
       "      <td>None</td>\n",
       "      <td>https://bsky.app/profile/did:plc:rwbe4e7d7o3fw...</td>\n",
       "    </tr>\n",
       "    <tr>\n",
       "      <th>4</th>\n",
       "      <td>4</td>\n",
       "      <td>did:plc:krt7ulietkhjowpctmv2iphb</td>\n",
       "      <td>paulio.bsky.social</td>\n",
       "      <td>Paulio 🥚</td>\n",
       "      <td>None</td>\n",
       "      <td>1730.0</td>\n",
       "      <td>956.0</td>\n",
       "      <td>1138.0</td>\n",
       "      <td>2023-05-02T02:45:41.097Z</td>\n",
       "      <td>None</td>\n",
       "      <td>https://bsky.app/profile/did:plc:krt7ulietkhjo...</td>\n",
       "    </tr>\n",
       "  </tbody>\n",
       "</table>\n",
       "</div>"
      ],
      "text/plain": [
       "   producer_idx                               did                      handle  \\\n",
       "0             0  did:plc:nywb5oene54cllowkfwouxzz       chadloder.bsky.social   \n",
       "1             1  did:plc:mnfnfpykrohxbck6av3f7los  blkmatters3000.bsky.social   \n",
       "2             2  did:plc:kfdf3ncmu3ekd3yrorivypai        lolennui.bsky.social   \n",
       "3             3  did:plc:rwbe4e7d7o3fwwcqkoyjvp4v             rui.bsky.social   \n",
       "4             4  did:plc:krt7ulietkhjowpctmv2iphb          paulio.bsky.social   \n",
       "\n",
       "       display_name                                        description  \\\n",
       "0        Chad Loder  Community activist, cybersecurity expert, citi...   \n",
       "1  Michael E Hopson                   Organizer. Abolitionist \\nHe/him   \n",
       "2           Amy Ash                onion lady \\n\\nhttps://lolennui.com   \n",
       "3               Rui                                               None   \n",
       "4          Paulio 🥚                                               None   \n",
       "\n",
       "   followers  following    posts                    joined error  \\\n",
       "0    54792.0     1377.0  10515.0  2023-04-30T18:10:33.161Z  None   \n",
       "1      134.0       23.0      5.0  2023-05-01T22:40:48.536Z  None   \n",
       "2    52062.0      819.0   3329.0  2023-04-27T15:52:02.340Z  None   \n",
       "3     5196.0    43075.0     29.0  2023-04-11T18:05:18.291Z  None   \n",
       "4     1730.0      956.0   1138.0  2023-05-02T02:45:41.097Z  None   \n",
       "\n",
       "                                            bsky_url  \n",
       "0  https://bsky.app/profile/did:plc:nywb5oene54cl...  \n",
       "1  https://bsky.app/profile/did:plc:mnfnfpykrohxb...  \n",
       "2  https://bsky.app/profile/did:plc:kfdf3ncmu3ekd...  \n",
       "3  https://bsky.app/profile/did:plc:rwbe4e7d7o3fw...  \n",
       "4  https://bsky.app/profile/did:plc:krt7ulietkhjo...  "
      ]
     },
     "execution_count": 2,
     "metadata": {},
     "output_type": "execute_result"
    }
   ],
   "source": [
    "import numpy as np\n",
    "import datamapplot\n",
    "import matplotlib.pyplot as plt\n",
    "import umap\n",
    "import torch\n",
    "import pandas as pd\n",
    "\n",
    "producer_embeddings = torch.load('producer_embeddings.pt', weights_only=False)\n",
    "producer_communities = np.load('producer_communities.npy')\n",
    "\n",
    "# Load 2D embeddings if they exist, otherwise create them\n",
    "try:\n",
    "    embeddings_2d = np.load('producer_embeddings_2d.npy')\n",
    "except FileNotFoundError:\n",
    "    # Reduce dimensionality to 2D using UMAP\n",
    "    reducer = umap.UMAP(n_components=2, random_state=42)\n",
    "    embeddings_2d = reducer.fit_transform(producer_embeddings)\n",
    "    # Save the 2D embeddings\n",
    "    np.save('producer_embeddings_2d.npy', embeddings_2d)\n",
    "\n",
    "producer_df = pd.read_parquet('producer_profiles.parquet')\n",
    "producer_df['bsky_url'] = producer_df['did'].apply(lambda x: f\"https://bsky.app/profile/{x}\")\n",
    "producer_df.head()"
   ]
  },
  {
   "cell_type": "code",
   "execution_count": 3,
   "metadata": {},
   "outputs": [],
   "source": [
    "producer_communities = producer_communities.astype(str)"
   ]
  },
  {
   "cell_type": "code",
   "execution_count": 4,
   "metadata": {},
   "outputs": [
    {
     "data": {
      "text/plain": [
       "((37192,), array(['49', '27', '24', ..., '14', '93', '87'], dtype='<U11'))"
      ]
     },
     "execution_count": 4,
     "metadata": {},
     "output_type": "execute_result"
    }
   ],
   "source": [
    "producer_communities.shape, producer_communities"
   ]
  },
  {
   "cell_type": "code",
   "execution_count": 5,
   "metadata": {},
   "outputs": [
    {
     "data": {
      "text/plain": [
       "array(['0', '1', '10', '11', '12', '13', '14', '15', '16', '17', '18',\n",
       "       '19', '2', '20', '21', '22', '23', '24', '25', '26', '27', '28',\n",
       "       '29', '3', '30', '31', '32', '33', '34', '35', '36', '37', '38',\n",
       "       '39', '4', '40', '41', '42', '43', '44', '45', '46', '47', '48',\n",
       "       '49', '5', '50', '51', '52', '53', '54', '55', '56', '57', '58',\n",
       "       '59', '6', '60', '61', '62', '63', '64', '65', '66', '67', '68',\n",
       "       '69', '7', '70', '71', '72', '73', '74', '75', '76', '77', '78',\n",
       "       '79', '8', '80', '81', '82', '83', '84', '85', '86', '87', '88',\n",
       "       '89', '9', '90', '91', '92', '93', '94', '95', '96', '97', '98',\n",
       "       '99'], dtype='<U11')"
      ]
     },
     "execution_count": 5,
     "metadata": {},
     "output_type": "execute_result"
    }
   ],
   "source": [
    "np.unique(producer_communities)"
   ]
  },
  {
   "cell_type": "code",
   "execution_count": 6,
   "metadata": {},
   "outputs": [],
   "source": [
    "follower_counts = producer_df['followers'].fillna(1).to_numpy()\n",
    "min_size = 3  # Minimum marker size\n",
    "max_size = 25  # Maximum marker size\n",
    "log_followers = np.log1p(follower_counts)  # log(1+x) to handle zeros\n",
    "marker_size_array = min_size + (max_size - min_size) * (log_followers - log_followers.min()) / (log_followers.max() - log_followers.min())"
   ]
  },
  {
   "cell_type": "code",
   "execution_count": 7,
   "metadata": {},
   "outputs": [
    {
     "name": "stdout",
     "output_type": "stream",
     "text": [
      "Original embedding shape: (37192, 64)\n",
      "2D embedding shape: (37192, 2)\n",
      "Number of posts: 37192\n"
     ]
    }
   ],
   "source": [
    "hover_text_template = \"\"\"\n",
    "<div style=\"font-family: -apple-system, BlinkMacSystemFont, 'Segoe UI', Roboto, sans-serif;\">\n",
    "    <p style=\"font-weight: 600; font-size: 14px; margin: 0 0 2px 0;\">{hover_text}</p>\n",
    "    <p style=\"font-size: 14px; color: #666; margin: 0 0 8px 0;\">@{handle}</p>\n",
    "    <p style=\"font-size: 14px; color: #4A4A4A; margin: 0 0 8px 0;\">{description}</p>\n",
    "    <div style=\"display: flex; gap: 16px; font-size: 13px; color: #666;\">\n",
    "        <span><b>{followers}</b> followers</span>\n",
    "        <span><b>{following}</b> following</span>\n",
    "        <span><b>{posts}</b> posts</span>\n",
    "    </div>\n",
    "</div>\n",
    "\"\"\"\n",
    "\n",
    "# Create the plot\n",
    "plot = datamapplot.create_interactive_plot(\n",
    "    embeddings_2d, \n",
    "    producer_communities,\n",
    "    hover_text=producer_df['display_name'].to_list(),\n",
    "    extra_point_data=producer_df[['handle','description', 'followers', 'following', 'bsky_url', 'posts']].fillna(''),\n",
    "    hover_text_html_template=hover_text_template,\n",
    "    on_click=\"window.open(hoverData.bsky_url[index], '_blank')\",\n",
    "    enable_search=True,\n",
    "    search_field=\"description\",\n",
    "    marker_size_array=marker_size_array\n",
    ")\n",
    "\n",
    "# Print some basic statistics about the embeddings\n",
    "print(f\"Original embedding shape: {producer_embeddings.shape}\")\n",
    "print(f\"2D embedding shape: {embeddings_2d.shape}\")\n",
    "print(f\"Number of posts: {len(producer_embeddings)}\")\n",
    "plot.save('producer_embeddings.html')"
   ]
  },
  {
   "cell_type": "code",
   "execution_count": null,
   "metadata": {},
   "outputs": [],
   "source": []
  }
 ],
 "metadata": {
  "kernelspec": {
   "display_name": ".venv",
   "language": "python",
   "name": "python3"
  },
  "language_info": {
   "codemirror_mode": {
    "name": "ipython",
    "version": 3
   },
   "file_extension": ".py",
   "mimetype": "text/x-python",
   "name": "python",
   "nbconvert_exporter": "python",
   "pygments_lexer": "ipython3",
   "version": "3.10.12"
  }
 },
 "nbformat": 4,
 "nbformat_minor": 2
}
